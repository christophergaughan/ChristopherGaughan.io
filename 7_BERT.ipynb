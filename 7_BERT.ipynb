{
  "nbformat": 4,
  "nbformat_minor": 0,
  "metadata": {
    "colab": {
      "private_outputs": true,
      "provenance": [],
      "machine_shape": "hm",
      "gpuType": "V28",
      "mount_file_id": "1ZHtGgBehWmMmvUl2yr0QhM4B5J_Uh8Gb",
      "authorship_tag": "ABX9TyN0oj7POy5qoDDFtFhGje2k",
      "include_colab_link": true
    },
    "kernelspec": {
      "name": "python3",
      "display_name": "Python 3"
    },
    "language_info": {
      "name": "python"
    },
    "accelerator": "TPU"
  },
  "cells": [
    {
      "cell_type": "markdown",
      "metadata": {
        "id": "view-in-github",
        "colab_type": "text"
      },
      "source": [
        "<a href=\"https://colab.research.google.com/github/christophergaughan/ChristopherGaughan.io/blob/master/7_BERT.ipynb\" target=\"_parent\"><img src=\"https://colab.research.google.com/assets/colab-badge.svg\" alt=\"Open In Colab\"/></a>"
      ]
    },
    {
      "cell_type": "markdown",
      "source": [
        "# Define Functions to Query and Download Data from the GDC API"
      ],
      "metadata": {
        "id": "gknwbXtos2WM"
      }
    },
    {
      "cell_type": "code",
      "source": [
        "import requests\n",
        "import json\n",
        "import os\n",
        "import shutil\n",
        "\n",
        "# Define the directory to save downloaded files\n",
        "directory_path = '/content/drive/MyDrive/Colab Notebooks/gdc2_files'\n",
        "\n",
        "# Clear the directory if it exists\n",
        "if os.path.exists(directory_path):\n",
        "    shutil.rmtree(directory_path)\n",
        "\n",
        "# Recreate the directory\n",
        "os.makedirs(directory_path)\n",
        "\n",
        "# Function to query the GDC API\n",
        "def query_gdc_api():\n",
        "    url = \"https://api.gdc.cancer.gov/files\"\n",
        "\n",
        "    # Define the parameters for the query\n",
        "    params = {\n",
        "        \"filters\": json.dumps({\n",
        "            \"op\": \"and\",\n",
        "            \"content\": [\n",
        "                {\n",
        "                    \"op\": \"in\",\n",
        "                    \"content\": {\n",
        "                        \"field\": \"cases.project.project_id\",\n",
        "                        \"value\": [\"TCGA-BRCA\"]\n",
        "                    }\n",
        "                },\n",
        "                {\n",
        "                    \"op\": \"in\",\n",
        "                    \"content\": {\n",
        "                        \"field\": \"data_category\",\n",
        "                        \"value\": [\"Transcriptome Profiling\"]\n",
        "                    }\n",
        "                },\n",
        "                {\n",
        "                    \"op\": \"in\",\n",
        "                    \"content\": {\n",
        "                        \"field\": \"data_type\",\n",
        "                        \"value\": [\"Gene Expression Quantification\"]\n",
        "                    }\n",
        "                }\n",
        "            ]\n",
        "        }),\n",
        "        \"fields\": \"file_id,file_name,cases.submitter_id\",\n",
        "        \"format\": \"json\",\n",
        "        \"size\": \"500\"  # Increase the size to 500\n",
        "    }\n",
        "\n",
        "    response = requests.get(url, params=params)\n",
        "    print(f\"Query URL: {response.url}\")  # Print the query URL for debugging\n",
        "    if response.status_code == 200:\n",
        "        data = response.json()\n",
        "        return data['data']['hits']\n",
        "    else:\n",
        "        print(f\"Error querying GDC API: {response.status_code}\")\n",
        "        return []\n",
        "\n",
        "# Query the GDC API and print the retrieved files\n",
        "files = query_gdc_api()\n",
        "for file in files:\n",
        "    print(f\"Retrieved file: {file['file_name']} with ID: {file['file_id']}\")\n",
        "\n",
        "# Ensure files are retrieved before attempting to download\n",
        "if not files:\n",
        "    print(\"No files retrieved. Please check the query parameters.\")\n",
        "else:\n",
        "    print(f\"Total files retrieved: {len(files)}\")\n",
        "\n",
        "# Function to download files from the GDC API\n",
        "def download_files(files):\n",
        "    for file in files:\n",
        "        file_id = file['file_id']\n",
        "        file_name = file['file_name']\n",
        "        file_path = os.path.join(directory_path, file_name)\n",
        "\n",
        "        if not os.path.exists(file_path):\n",
        "            download_url = f\"https://api.gdc.cancer.gov/data/{file_id}\"\n",
        "            response = requests.get(download_url, stream=True)\n",
        "            if response.status_code == 200:\n",
        "                with open(file_path, 'wb') as f:\n",
        "                    for chunk in response.iter_content(chunk_size=1024):\n",
        "                        if chunk:\n",
        "                            f.write(chunk)\n",
        "                print(f\"Downloaded {file_name}\")\n",
        "            else:\n",
        "                print(f\"Failed to download {file_name}\")\n",
        "\n",
        "# Download the files\n",
        "download_files(files)\n"
      ],
      "metadata": {
        "id": "MowKkDI2qFVC"
      },
      "execution_count": null,
      "outputs": []
    },
    {
      "cell_type": "markdown",
      "source": [
        "**preprocess the RNA-Seq files:**"
      ],
      "metadata": {
        "id": "D6Xi_XhWti50"
      }
    },
    {
      "cell_type": "code",
      "source": [
        "import pandas as pd\n",
        "import json\n",
        "import os\n",
        "\n",
        "# Function to preprocess RNA-Seq files\n",
        "def preprocess_rna_seq_file(file_path):\n",
        "    try:\n",
        "        # Read the file with proper column names and skip the initial rows if they don't conform to the structure\n",
        "        df = pd.read_csv(file_path, sep='\\t', comment='#')\n",
        "\n",
        "        # Display the first few rows to understand the structure\n",
        "        print(f\"First few rows of the file {file_path}:\")\n",
        "        print(df.head())\n",
        "\n",
        "        # Remove rows with NaN in gene_name or gene_type\n",
        "        df = df.dropna(subset=['gene_name', 'gene_type'])\n",
        "\n",
        "        # Filter out rows with gene_id values like 'N_unmapped', 'N_multimapping', etc.\n",
        "        df = df[~df['gene_id'].str.contains('N_unmapped|N_multimapping|N_noFeature|N_ambiguous')]\n",
        "\n",
        "        if df.empty or df.shape[1] == 0:\n",
        "            raise ValueError(\"File is empty or has no valid columns\")\n",
        "\n",
        "        return df\n",
        "    except Exception as e:\n",
        "        print(f\"Error reading {file_path}: {e}\")\n",
        "        return None\n",
        "\n",
        "# Directory path for downloaded files\n",
        "directory_path = '/content/drive/MyDrive/Colab Notebooks/gdc2_files'\n",
        "file_ids = [f for f in os.listdir(directory_path) if f.endswith('.rna_seq.augmented_star_gene_counts.tsv')]\n",
        "\n",
        "# List to hold all DataFrames\n",
        "rna_seq_dfs = []\n",
        "\n",
        "# Preprocess and collect all RNA-Seq DataFrames\n",
        "for file_id in file_ids:\n",
        "    file_path = os.path.join(directory_path, file_id)\n",
        "    rna_seq_df = preprocess_rna_seq_file(file_path)\n",
        "    if rna_seq_df is not None:\n",
        "        rna_seq_df['submitter_id'] = file_id.split('.')[0]  # Add submitter_id for merging\n",
        "        rna_seq_dfs.append(rna_seq_df)\n",
        "\n",
        "# Concatenate all RNA-Seq DataFrames\n",
        "if rna_seq_dfs:\n",
        "    all_rna_seq_df = pd.concat(rna_seq_dfs, ignore_index=True)\n",
        "    # Display the combined DataFrame\n",
        "    print(all_rna_seq_df.head())\n",
        "    print(all_rna_seq_df.info())\n",
        "else:\n",
        "    print(\"No valid RNA-Seq data found.\")\n"
      ],
      "metadata": {
        "id": "Va2tY5gO1my-"
      },
      "execution_count": null,
      "outputs": []
    },
    {
      "cell_type": "code",
      "source": [
        "import os\n",
        "import pandas as pd\n",
        "\n",
        "# Function to preprocess RNA-Seq files\n",
        "def preprocess_rna_seq_file(file_path):\n",
        "    try:\n",
        "        # Read the file and handle comment lines\n",
        "        df = pd.read_csv(file_path, sep='\\t', comment='#')\n",
        "\n",
        "        # Remove rows with NaN in 'gene_name' or 'gene_type'\n",
        "        df = df.dropna(subset=['gene_name', 'gene_type'])\n",
        "\n",
        "        # Filter out rows with gene_id values like 'N_unmapped', 'N_multimapping', etc.\n",
        "        df = df[~df['gene_id'].str.contains('N_unmapped|N_multimapping|N_noFeature|N_ambiguous')]\n",
        "\n",
        "        if df.empty or df.shape[1] == 0:\n",
        "            raise ValueError(\"File is empty or has no valid columns\")\n",
        "\n",
        "        return df\n",
        "    except Exception as e:\n",
        "        print(f\"Error reading {file_path}: {e}\")\n",
        "        return None\n",
        "\n",
        "# Directory path for downloaded files\n",
        "directory_path = '/content/drive/MyDrive/Colab Notebooks/gdc2_files'\n",
        "file_ids = [f for f in os.listdir(directory_path) if f.endswith('.rna_seq.augmented_star_gene_counts.tsv')]\n",
        "\n",
        "# List to hold all DataFrames\n",
        "rna_seq_dfs = []\n",
        "\n",
        "# Preprocess and collect all RNA-Seq DataFrames\n",
        "for file_id in file_ids:\n",
        "    file_path = os.path.join(directory_path, file_id)\n",
        "    rna_seq_df = preprocess_rna_seq_file(file_path)\n",
        "    if rna_seq_df is not None:\n",
        "        rna_seq_df['submitter_id'] = file_id.split('.')[0]  # Add submitter_id for merging\n",
        "        rna_seq_dfs.append(rna_seq_df)\n",
        "\n",
        "# Concatenate all RNA-Seq DataFrames\n",
        "if rna_seq_dfs:\n",
        "    all_rna_seq_df = pd.concat(rna_seq_dfs, ignore_index=True)\n",
        "    # Display the combined DataFrame\n",
        "    print(all_rna_seq_df.head())\n",
        "    print(all_rna_seq_df.info())\n",
        "else:\n",
        "    print(\"No valid RNA-Seq data found.\")\n"
      ],
      "metadata": {
        "id": "AKRXykpy2IXv"
      },
      "execution_count": null,
      "outputs": []
    },
    {
      "cell_type": "code",
      "source": [
        "# Display summary statistics\n",
        "summary_stats = all_rna_seq_df.describe()\n",
        "print(summary_stats)\n"
      ],
      "metadata": {
        "id": "r4MZwfp72cx8"
      },
      "execution_count": null,
      "outputs": []
    },
    {
      "cell_type": "code",
      "source": [
        "# Filter genes with TPM > 10\n",
        "filtered_df = all_rna_seq_df[all_rna_seq_df['tpm_unstranded'] > 10]\n",
        "print(filtered_df.head())\n"
      ],
      "metadata": {
        "id": "i77FjQEq2xmg"
      },
      "execution_count": null,
      "outputs": []
    },
    {
      "cell_type": "code",
      "source": [
        "# Export the combined DataFrame to a CSV file\n",
        "output_file_path = '/content/drive/MyDrive/Colab Notebooks/processed_rna_seq_data.csv'\n",
        "all_rna_seq_df.to_csv(output_file_path, index=False)\n",
        "print(f\"Data exported to {output_file_path}\")\n"
      ],
      "metadata": {
        "id": "6CCReY2U25LQ"
      },
      "execution_count": null,
      "outputs": []
    },
    {
      "cell_type": "code",
      "source": [
        "import os\n",
        "import pandas as pd\n",
        "\n",
        "# Function to preprocess RNA-Seq files\n",
        "def preprocess_rna_seq_file(file_path):\n",
        "    try:\n",
        "        # Read the file and handle comment lines\n",
        "        df = pd.read_csv(file_path, sep='\\t', comment='#')\n",
        "\n",
        "        # Remove rows with NaN in 'gene_name' or 'gene_type'\n",
        "        df = df.dropna(subset=['gene_name', 'gene_type'])\n",
        "\n",
        "        # Filter out rows with gene_id values like 'N_unmapped', 'N_multimapping', etc.\n",
        "        df = df[~df['gene_id'].str.contains('N_unmapped|N_multimapping|N_noFeature|N_ambiguous')]\n",
        "\n",
        "        if df.empty or df.shape[1] == 0:\n",
        "            raise ValueError(\"File is empty or has no valid columns\")\n",
        "\n",
        "        return df\n",
        "    except Exception as e:\n",
        "        print(f\"Error reading {file_path}: {e}\")\n",
        "        return None\n",
        "\n",
        "# Directory path for downloaded files\n",
        "directory_path = '/content/drive/MyDrive/Colab Notebooks/gdc2_files'\n",
        "file_ids = [f for f in os.listdir(directory_path) if f.endswith('.rna_seq.augmented_star_gene_counts.tsv')]\n",
        "\n",
        "# List to hold all DataFrames\n",
        "rna_seq_dfs = []\n",
        "\n",
        "# Preprocess and collect all RNA-Seq DataFrames\n",
        "for file_id in file_ids:\n",
        "    file_path = os.path.join(directory_path, file_id)\n",
        "    rna_seq_df = preprocess_rna_seq_file(file_path)\n",
        "    if rna_seq_df is not None:\n",
        "        rna_seq_df['submitter_id'] = file_id.split('.')[0]  # Add submitter_id for merging\n",
        "        rna_seq_dfs.append(rna_seq_df)\n",
        "\n",
        "# Concatenate all RNA-Seq DataFrames\n",
        "if rna_seq_dfs:\n",
        "    all_rna_seq_df = pd.concat(rna_seq_dfs, ignore_index=True)\n",
        "    # Display the combined DataFrame\n",
        "    print(all_rna_seq_df.head())\n",
        "    print(all_rna_seq_df.info())\n",
        "\n",
        "    # Generate summary statistics\n",
        "    summary_stats = all_rna_seq_df.describe()\n",
        "    print(summary_stats)\n",
        "\n",
        "    # Filter genes with TPM > 10\n",
        "    filtered_df = all_rna_seq_df[all_rna_seq_df['tpm_unstranded'] > 10]\n",
        "    print(filtered_df.head())\n",
        "\n",
        "    # Export the combined DataFrame to a CSV file\n",
        "    output_file_path = '/content/drive/MyDrive/Colab Notebooks/processed_rna_seq_data.csv'\n",
        "    all_rna_seq_df.to_csv(output_file_path, index=False)\n",
        "    print(f\"Data exported to {output_file_path}\")\n",
        "else:\n",
        "    print(\"No valid RNA-Seq data found.\")\n"
      ],
      "metadata": {
        "id": "sjncjmml3DGo"
      },
      "execution_count": null,
      "outputs": []
    },
    {
      "cell_type": "code",
      "source": [
        "import pandas as pd\n",
        "\n",
        "# Load the data\n",
        "data = pd.read_csv('/content/drive/MyDrive/Colab Notebooks/processed_rna_seq_data.csv')\n",
        "\n",
        "# Check for missing values\n",
        "print(data.isnull().sum())\n",
        "\n",
        "# Summary statistics\n",
        "print(data.describe())\n"
      ],
      "metadata": {
        "id": "mKD1sQZG4Jw4"
      },
      "execution_count": null,
      "outputs": []
    },
    {
      "cell_type": "markdown",
      "source": [
        "## Simplified Exploratory Data Analysis (EDA)\n",
        "\n",
        "1. **Distribution Analysis**\n",
        "Combine the histograms and boxplots into a single function for simplicity.\n",
        "\n"
      ],
      "metadata": {
        "id": "ZKVdoz6Rux9o"
      }
    },
    {
      "cell_type": "code",
      "source": [
        "import seaborn as sns\n",
        "import matplotlib.pyplot as plt\n",
        "\n",
        "# Function to plot distributions\n",
        "def plot_distributions(data, columns, sample_size=100000):\n",
        "    # Sample the data for quicker processing\n",
        "    sampled_data = data.sample(n=sample_size, random_state=42)\n",
        "\n",
        "    for column in columns:\n",
        "        plt.figure(figsize=(14, 6))\n",
        "\n",
        "        # Plot histogram\n",
        "        plt.subplot(1, 2, 1)\n",
        "        sns.histplot(sampled_data[column], kde=True, bins=50)  # Limiting bins for performance\n",
        "        plt.title(f'Distribution of {column}')\n",
        "        plt.xlabel(column)\n",
        "        plt.ylabel('Frequency')\n",
        "\n",
        "        # Plot boxplot\n",
        "        plt.subplot(1, 2, 2)\n",
        "        sns.boxplot(y=sampled_data[column])\n",
        "        plt.title(f'Boxplot of {column}')\n",
        "\n",
        "        plt.tight_layout()\n",
        "        plt.show()\n",
        "\n",
        "# Columns to visualize\n",
        "columns_to_plot = ['tpm_unstranded', 'fpkm_unstranded']\n",
        "\n",
        "# Plot the distributions with sampling\n",
        "plot_distributions(data, columns_to_plot)\n"
      ],
      "metadata": {
        "id": "6jgQN3QWyPAl"
      },
      "execution_count": null,
      "outputs": []
    },
    {
      "cell_type": "markdown",
      "source": [
        "The distribution of tpm_unstranded is heavily skewed with many values close to zero and some extremely high values. The boxplot also shows the presence of numerous outliers.\n",
        "\n",
        "To get more insights from the data, we can perform the following steps:\n",
        "\n",
        "1. **Log Transformation:** Apply a log transformation to the tpm_unstranded values to reduce skewness and make the distribution more normal.\n",
        "2. **Filtering Outliers:** Identify and possibly filter out outliers for a clearer view of the central tendency of the data.\n",
        "3. **Revisualization:** Re-plot the transformed and filtered data to get a better understanding.\n"
      ],
      "metadata": {
        "id": "zYuizulByttl"
      }
    },
    {
      "cell_type": "markdown",
      "source": [
        "## Applying Log Transformation and Filtering Outliers"
      ],
      "metadata": {
        "id": "lx56dniazKPM"
      }
    },
    {
      "cell_type": "code",
      "source": [
        "import numpy as np\n",
        "import seaborn as sns\n",
        "import matplotlib.pyplot as plt\n",
        "\n",
        "# Function to plot distributions with transformations\n",
        "def plot_transformed_distributions(data, column, sample_size=100000):\n",
        "    # Sample the data for quicker processing\n",
        "    sampled_data = data.sample(n=sample_size, random_state=42)\n",
        "\n",
        "    # Apply log transformation (adding a small constant to avoid log(0))\n",
        "    sampled_data['log_' + column] = np.log1p(sampled_data[column])\n",
        "\n",
        "    plt.figure(figsize=(14, 6))\n",
        "\n",
        "    # Plot histogram of log-transformed data\n",
        "    plt.subplot(1, 2, 1)\n",
        "    sns.histplot(sampled_data['log_' + column], kde=True, bins=50)  # Limiting bins for performance\n",
        "    plt.title(f'Log-Transformed Distribution of {column}')\n",
        "    plt.xlabel('log(' + column + ')')\n",
        "    plt.ylabel('Frequency')\n",
        "\n",
        "    # Plot boxplot of log-transformed data\n",
        "    plt.subplot(1, 2, 2)\n",
        "    sns.boxplot(y=sampled_data['log_' + column])\n",
        "    plt.title(f'Boxplot of Log-Transformed {column}')\n",
        "\n",
        "    plt.tight_layout()\n",
        "    plt.show()\n",
        "\n",
        "# Column to visualize\n",
        "column_to_plot = 'tpm_unstranded'\n",
        "\n",
        "# Plot the log-transformed distributions\n",
        "plot_transformed_distributions(data, column_to_plot)\n"
      ],
      "metadata": {
        "id": "YRE5NALAzAzU"
      },
      "execution_count": null,
      "outputs": []
    },
    {
      "cell_type": "markdown",
      "source": [
        "The log-transformed distribution and boxplot for tpm_unstranded provide a clearer view of the data:\n",
        "\n",
        "Log-Transformed Distribution: The distribution is still right-skewed but much less so than the original distribution. The majority of the data points have low TPM values, with a long tail of higher values.\n",
        "Boxplot: The boxplot shows that even after log transformation, there are still many outliers.\n"
      ],
      "metadata": {
        "id": "NZyig9iDzloP"
      }
    },
    {
      "cell_type": "code",
      "source": [
        "# Identify the top 10 most highly expressed genes\n",
        "top_expressed_genes = data[['gene_id', 'gene_name', 'tpm_unstranded']].nlargest(10, 'tpm_unstranded')\n",
        "print(\"Top 10 most highly expressed genes:\")\n",
        "print(top_expressed_genes)\n",
        "\n",
        "# Identify the top 10 least expressed genes (excluding zeros)\n",
        "least_expressed_genes = data[['gene_id', 'gene_name', 'tpm_unstranded']][data['tpm_unstranded'] > 0].nsmallest(10, 'tpm_unstranded')\n",
        "print(\"\\nTop 10 least expressed genes (excluding zeros):\")\n",
        "print(least_expressed_genes)\n"
      ],
      "metadata": {
        "id": "GPfSRmJTzps2"
      },
      "execution_count": null,
      "outputs": []
    },
    {
      "cell_type": "code",
      "source": [
        "print(data.columns)\n",
        "\n"
      ],
      "metadata": {
        "id": "hetoYZUM0HR1"
      },
      "execution_count": null,
      "outputs": []
    },
    {
      "cell_type": "code",
      "source": [
        "# Identify the top 10 most highly expressed genes\n",
        "top_expressed_genes = data[['gene_id', 'gene_name', 'tpm_unstranded']].nlargest(10, 'tpm_unstranded')\n",
        "print(\"Top 10 most highly expressed genes:\")\n",
        "print(top_expressed_genes)\n",
        "\n",
        "# Identify the top 10 least expressed genes (excluding zeros)\n",
        "least_expressed_genes = data[['gene_id', 'gene_name', 'tpm_unstranded']][data['tpm_unstranded'] > 0].nsmallest(10, 'tpm_unstranded')\n",
        "print(\"\\nTop 10 least expressed genes (excluding zeros):\")\n",
        "print(least_expressed_genes)\n"
      ],
      "metadata": {
        "id": "DUw1kItA0jAt"
      },
      "execution_count": null,
      "outputs": []
    },
    {
      "cell_type": "code",
      "source": [
        "import numpy as np\n",
        "\n",
        "# Simulate condition data (e.g., two conditions 'A' and 'B')\n",
        "np.random.seed(42)  # For reproducibility\n",
        "data['condition'] = np.random.choice(['A', 'B'], size=len(data))\n",
        "\n",
        "# Calculate mean TPM for each gene per condition\n",
        "mean_tpm_per_condition = data.groupby(['gene_id', 'gene_name', 'condition'])['tpm_unstranded'].mean().unstack()\n",
        "\n",
        "# Display the mean TPM per condition for the first few genes\n",
        "print(mean_tpm_per_condition.head())\n"
      ],
      "metadata": {
        "id": "V3nnf_PD0njd"
      },
      "execution_count": null,
      "outputs": []
    },
    {
      "cell_type": "code",
      "source": [
        "# Identify the top 10 most highly expressed genes for each condition\n",
        "top_expressed_genes_A = mean_tpm_per_condition['A'].nlargest(10)\n",
        "top_expressed_genes_B = mean_tpm_per_condition['B'].nlargest(10)\n",
        "\n",
        "print(\"Top 10 most highly expressed genes in condition A:\")\n",
        "print(top_expressed_genes_A)\n",
        "\n",
        "print(\"\\nTop 10 most highly expressed genes in condition B:\")\n",
        "print(top_expressed_genes_B)\n",
        "\n",
        "# Identify the top 10 least expressed genes (excluding zeros) for each condition\n",
        "least_expressed_genes_A = mean_tpm_per_condition['A'][mean_tpm_per_condition['A'] > 0].nsmallest(10)\n",
        "least_expressed_genes_B = mean_tpm_per_condition['B'][mean_tpm_per_condition['B'] > 0].nsmallest(10)\n",
        "\n",
        "print(\"\\nTop 10 least expressed genes in condition A (excluding zeros):\")\n",
        "print(least_expressed_genes_A)\n",
        "\n",
        "print(\"\\nTop 10 least expressed genes in condition B (excluding zeros):\")\n",
        "print(least_expressed_genes_B)\n"
      ],
      "metadata": {
        "id": "rxQPEBAK08zU"
      },
      "execution_count": null,
      "outputs": []
    },
    {
      "cell_type": "code",
      "source": [
        "# Calculate fold change\n",
        "mean_tpm_per_condition['fold_change'] = mean_tpm_per_condition['B'] / mean_tpm_per_condition['A']\n",
        "\n",
        "# Log2 Fold Change (optional for better interpretation)\n",
        "mean_tpm_per_condition['log2_fold_change'] = np.log2(mean_tpm_per_condition['fold_change'])\n",
        "\n",
        "# Display the data with fold change\n",
        "print(mean_tpm_per_condition[['A', 'B', 'fold_change', 'log2_fold_change']].head())\n"
      ],
      "metadata": {
        "id": "j9cp-HiI1AVM"
      },
      "execution_count": null,
      "outputs": []
    },
    {
      "cell_type": "code",
      "source": [
        "# Replace zero values with a small number\n",
        "mean_tpm_per_condition.replace(0, np.nan, inplace=True)\n",
        "mean_tpm_per_condition['fold_change'] = mean_tpm_per_condition['B'] / mean_tpm_per_condition['A']\n",
        "mean_tpm_per_condition['log2_fold_change'] = np.log2(mean_tpm_per_condition['fold_change'])\n",
        "mean_tpm_per_condition.replace(np.nan, 0, inplace=True)\n"
      ],
      "metadata": {
        "id": "8DWCFRKj1iJY"
      },
      "execution_count": null,
      "outputs": []
    },
    {
      "cell_type": "code",
      "source": [
        "# Define fold-change threshold\n",
        "fc_threshold = 2\n",
        "\n",
        "# Identify upregulated genes (log2 fold-change > 1)\n",
        "upregulated_genes = mean_tpm_per_condition[mean_tpm_per_condition['log2_fold_change'] > 1]\n",
        "\n",
        "# Identify downregulated genes (log2 fold-change < -1)\n",
        "downregulated_genes = mean_tpm_per_condition[mean_tpm_per_condition['log2_fold_change'] < -1]\n",
        "\n",
        "print(\"Upregulated genes (log2 fold-change > 1):\")\n",
        "print(upregulated_genes)\n",
        "\n",
        "print(\"\\nDownregulated genes (log2 fold-change < -1):\")\n",
        "print(downregulated_genes)\n"
      ],
      "metadata": {
        "id": "6THkEAeY1l5x"
      },
      "execution_count": null,
      "outputs": []
    },
    {
      "cell_type": "code",
      "source": [
        "# Define the paths\n",
        "upregulated_path = '/content/drive/MyDrive/Colab Notebooks/upregulated_genes.csv'\n",
        "downregulated_path = '/content/drive/MyDrive/Colab Notebooks/downregulated_genes.csv'\n",
        "\n",
        "# Save the results to CSV files\n",
        "upregulated_genes.to_csv(upregulated_path, header=True)\n",
        "downregulated_genes.to_csv(downregulated_path, header=True)\n"
      ],
      "metadata": {
        "id": "cvW5hmLw2xtr"
      },
      "execution_count": null,
      "outputs": []
    },
    {
      "cell_type": "code",
      "source": [
        "import numpy as np\n",
        "\n",
        "# Mount Google Drive\n",
        "from google.colab import drive\n",
        "drive.mount('/content/drive')\n",
        "\n",
        "# Replace zero values with a small number to avoid log transformation issues\n",
        "mean_tpm_per_condition.replace(0, np.nan, inplace=True)\n",
        "\n",
        "# Calculate fold change and log2 fold change\n",
        "mean_tpm_per_condition['fold_change'] = mean_tpm_per_condition['B'] / mean_tpm_per_condition['A']\n",
        "mean_tpm_per_condition['log2_fold_change'] = np.log2(mean_tpm_per_condition['fold_change'])\n",
        "\n",
        "# Replace NaN values back with zero for meaningful interpretation\n",
        "mean_tpm_per_condition.replace(np.nan, 0, inplace=True)\n",
        "\n",
        "# Display the data with fold change\n",
        "print(mean_tpm_per_condition[['A', 'B', 'fold_change', 'log2_fold_change']].head())\n",
        "\n",
        "# Define fold-change threshold\n",
        "fc_threshold = 2\n",
        "\n",
        "# Identify upregulated genes (log2 fold-change > 1)\n",
        "upregulated_genes = mean_tpm_per_condition[mean_tpm_per_condition['log2_fold_change'] > 1]\n",
        "\n",
        "# Identify downregulated genes (log2 fold-change < -1)\n",
        "downregulated_genes = mean_tpm_per_condition[mean_tpm_per_condition['log2_fold_change'] < -1]\n",
        "\n",
        "print(\"Upregulated genes (log2 fold-change > 1):\")\n",
        "print(upregulated_genes)\n",
        "\n",
        "print(\"\\nDownregulated genes (log2 fold-change < -1):\")\n",
        "print(downregulated_genes)\n",
        "\n",
        "# Define the paths\n",
        "upregulated_path = '/content/drive/MyDrive/Colab Notebooks/upregulated_genes.csv'\n",
        "downregulated_path = '/content/drive/MyDrive/Colab Notebooks/downregulated_genes.csv'\n",
        "\n",
        "# Save the results to CSV files\n",
        "upregulated_genes.to_csv(upregulated_path, header=True)\n",
        "downregulated_genes.to_csv(downregulated_path, header=True)\n"
      ],
      "metadata": {
        "id": "DLhxsMTK1r9J"
      },
      "execution_count": null,
      "outputs": []
    },
    {
      "cell_type": "code",
      "source": [
        "import pandas as pd\n",
        "from sklearn.decomposition import PCA\n",
        "from sklearn.preprocessing import StandardScaler\n",
        "import matplotlib.pyplot as plt\n",
        "import seaborn as sns\n",
        "\n",
        "# Assuming `mean_tpm_per_condition` is the DataFrame containing your data\n",
        "# with 'A' and 'B' as conditions and 'gene_id', 'gene_name' as indices\n",
        "\n",
        "# Prepare the data\n",
        "pca_data = mean_tpm_per_condition[['A', 'B']].fillna(0)\n",
        "\n",
        "# Standardize the data\n",
        "scaler = StandardScaler()\n",
        "pca_data_scaled = scaler.fit_transform(pca_data)\n",
        "\n",
        "# Apply PCA\n",
        "pca = PCA(n_components=2)\n",
        "pca_result = pca.fit_transform(pca_data_scaled)\n",
        "\n",
        "# Create a DataFrame with the PCA results\n",
        "pca_df = pd.DataFrame(data=pca_result, columns=['PC1', 'PC2'])\n",
        "pca_df['gene_id'] = mean_tpm_per_condition.index.get_level_values('gene_id')\n",
        "pca_df['gene_name'] = mean_tpm_per_condition.index.get_level_values('gene_name')\n",
        "\n",
        "# Plot the PCA results\n",
        "plt.figure(figsize=(10, 7))\n",
        "sns.scatterplot(x='PC1', y='PC2', data=pca_df)\n",
        "plt.title('PCA of RNA-seq Data')\n",
        "plt.xlabel(f'Principal Component 1 ({pca.explained_variance_ratio_[0]*100:.2f}%)')\n",
        "plt.ylabel(f'Principal Component 2 ({pca.explained_variance_ratio_[1]*100:.2f}%)')\n",
        "plt.show()\n"
      ],
      "metadata": {
        "id": "6bKPlG1orPjd"
      },
      "execution_count": null,
      "outputs": []
    },
    {
      "cell_type": "markdown",
      "source": [
        "##  Identify Outliers"
      ],
      "metadata": {
        "id": "PReU6N6N3ssG"
      }
    },
    {
      "cell_type": "code",
      "source": [
        "import numpy as np\n",
        "\n",
        "# Add labels to the PCA DataFrame\n",
        "pca_df['PC1'] = pca_result[:, 0]\n",
        "pca_df['PC2'] = pca_result[:, 1]\n",
        "\n",
        "# Define a threshold to identify outliers (e.g., top 1% of PC1 values)\n",
        "threshold = np.percentile(pca_df['PC1'], 99)\n",
        "\n",
        "# Filter the outliers\n",
        "outliers = pca_df[pca_df['PC1'] > threshold]\n",
        "\n",
        "# Plot the PCA results with outliers highlighted\n",
        "plt.figure(figsize=(10, 7))\n",
        "sns.scatterplot(x='PC1', y='PC2', data=pca_df, label='Data Points')\n",
        "sns.scatterplot(x='PC1', y='PC2', data=outliers, color='red', label='Outliers')\n",
        "plt.title('PCA of RNA-seq Data with Outliers Highlighted')\n",
        "plt.xlabel(f'Principal Component 1 ({pca.explained_variance_ratio_[0]*100:.2f}%)')\n",
        "plt.ylabel(f'Principal Component 2 ({pca.explained_variance_ratio_[1]*100:.2f}%)')\n",
        "plt.legend()\n",
        "plt.show()\n"
      ],
      "metadata": {
        "id": "D1BAHxjX3a8C"
      },
      "execution_count": null,
      "outputs": []
    },
    {
      "cell_type": "code",
      "source": [
        "# Extract outliers based on the threshold defined earlier\n",
        "threshold = np.percentile(pca_df['PC1'], 99)\n",
        "outliers = pca_df[pca_df['PC1'] > threshold]\n",
        "\n",
        "# Save outliers to a CSV file for further investigation\n",
        "outliers.to_csv('/content/drive/MyDrive/Colab Notebooks/rna_seq_outliers.csv', index=False)\n"
      ],
      "metadata": {
        "id": "CxKBs4Rm3wyf"
      },
      "execution_count": null,
      "outputs": []
    },
    {
      "cell_type": "code",
      "source": [
        "import statsmodels.api as sm\n",
        "\n",
        "# Assuming you have a DataFrame with expression data for conditions A and B\n",
        "expression_data = mean_tpm_per_condition.loc[outliers.index]\n",
        "\n",
        "# Perform differential expression analysis (e.g., using a linear model)\n",
        "# This is a placeholder for a more complex analysis pipeline\n",
        "results = []\n",
        "for gene in expression_data.index:\n",
        "    model = sm.OLS(expression_data.loc[gene, 'A'], expression_data.loc[gene, 'B'])\n",
        "    results.append(model.fit())\n",
        "\n",
        "# Summarize the results\n",
        "summary = [result.summary() for result in results]\n"
      ],
      "metadata": {
        "id": "GfIOysDg4Nrc"
      },
      "execution_count": null,
      "outputs": []
    },
    {
      "cell_type": "code",
      "source": [
        "!pip install statsmodels\n"
      ],
      "metadata": {
        "id": "pxu8Yo9D4R8Z"
      },
      "execution_count": null,
      "outputs": []
    },
    {
      "cell_type": "code",
      "source": [
        "import statsmodels.api as sm\n",
        "import numpy as np\n",
        "\n",
        "# Ensure PCA DataFrame has a named index for gene_id\n",
        "pca_df.index.name = 'gene_id'\n",
        "\n",
        "# Extract outlier gene IDs based on the threshold defined earlier\n",
        "threshold = np.percentile(pca_df['PC1'], 99)\n",
        "outliers = pca_df[pca_df['PC1'] > threshold]\n",
        "\n",
        "# Extract the gene IDs of the outliers\n",
        "outlier_gene_ids = outliers.index.unique()\n",
        "\n",
        "# Filter the expression data for the outlier gene IDs, ensuring alignment\n",
        "common_gene_ids = mean_tpm_per_condition.index.intersection(outlier_gene_ids)\n",
        "expression_data = mean_tpm_per_condition.loc[common_gene_ids]\n",
        "\n",
        "# Perform differential expression analysis using statsmodels\n",
        "results = []\n",
        "for gene in expression_data.index:\n",
        "    try:\n",
        "        # Use log-transformed data to stabilize variance\n",
        "        y = np.log2(expression_data.loc[gene, 'B'] + 1)  # Dependent variable\n",
        "        x = np.log2(expression_data.loc[gene, 'A'] + 1)  # Independent variable\n",
        "        x = sm.add_constant(x)  # Add intercept\n",
        "        model = sm.OLS(y, x)\n",
        "        results.append(model.fit())\n",
        "    except Exception as e:\n",
        "        print(f\"Could not fit model for gene {gene}: {e}\")\n",
        "\n",
        "# Summarize the results\n",
        "summary = [result.summary() for result in results if result]\n",
        "\n",
        "# Print a summary for the first gene as an example\n",
        "if summary:\n",
        "    print(summary[0])\n"
      ],
      "metadata": {
        "id": "1I8Zz2Cz43YJ"
      },
      "execution_count": null,
      "outputs": []
    },
    {
      "cell_type": "code",
      "source": [
        "import numpy as np\n",
        "import pandas as pd\n",
        "import matplotlib.pyplot as plt\n",
        "from scipy.stats import ttest_ind_from_stats, t\n",
        "\n",
        "# Sample data for demonstration\n",
        "np.random.seed(42)\n",
        "mean_tpm_per_condition = pd.DataFrame({\n",
        "    'A': np.random.rand(100) * 100,\n",
        "    'B': np.random.rand(100) * 100\n",
        "}, index=[f'gene_{i}' for i in range(100)])\n",
        "\n",
        "# Introduce artificial outliers for demonstration\n",
        "mean_tpm_per_condition.loc[::10, 'A'] = mean_tpm_per_condition.loc[::10, 'A'] * 10\n",
        "mean_tpm_per_condition.loc[::10, 'B'] = mean_tpm_per_condition.loc[::10, 'B'] * 10\n",
        "\n",
        "# Print the first few rows to confirm the data structure\n",
        "print(\"First few rows of mean_tpm_per_condition:\")\n",
        "print(mean_tpm_per_condition.head())\n",
        "\n",
        "# Calculate log2 fold change and p-values for volcano plot\n",
        "volcano_data = {\n",
        "    'gene_id': [],\n",
        "    'log2_fold_change': [],\n",
        "    'p_value': []\n",
        "}\n",
        "\n",
        "# Assume a standard error for both conditions\n",
        "standard_error = 1.0  # This value is arbitrary for the demonstration\n",
        "\n",
        "# Iterate over genes and calculate log2 fold change and p-values\n",
        "for gene in mean_tpm_per_condition.index:\n",
        "    condition_a = mean_tpm_per_condition.loc[gene, 'A']\n",
        "    condition_b = mean_tpm_per_condition.loc[gene, 'B']\n",
        "\n",
        "    if condition_a > 0 and condition_b > 0:  # Ensure no division by zero\n",
        "        log2_fc = np.log2(condition_b / condition_a)\n",
        "\n",
        "        # Compute the t-statistic for the difference\n",
        "        t_stat = log2_fc / standard_error\n",
        "\n",
        "        # Degrees of freedom\n",
        "        df = 1  # Since we are comparing two values\n",
        "\n",
        "        # Two-tailed p-value from t-distribution\n",
        "        p_value = 2 * (1 - t.cdf(np.abs(t_stat), df))\n",
        "\n",
        "        volcano_data['gene_id'].append(gene)\n",
        "        volcano_data['log2_fold_change'].append(log2_fc)\n",
        "        volcano_data['p_value'].append(p_value)\n",
        "\n",
        "        # Debugging print statements\n",
        "        print(f\"Gene: {gene}\")\n",
        "        print(f\"Condition A: {condition_a}\")\n",
        "        print(f\"Condition B: {condition_b}\")\n",
        "        print(f\"Log2 Fold Change: {log2_fc}\")\n",
        "        print(f\"P-value: {p_value}\")\n",
        "    else:\n",
        "        print(f\"Skipped gene {gene} due to zero value in condition A or B\")\n",
        "\n",
        "# Convert to DataFrame and add -log10(p-value)\n",
        "volcano_df = pd.DataFrame(volcano_data)\n",
        "volcano_df['-log10_p_value'] = -np.log10(volcano_df['p_value'])\n",
        "\n",
        "# Print the DataFrame to verify\n",
        "print(\"First few rows of volcano_df:\")\n",
        "print(volcano_df.head())\n",
        "\n",
        "# Ensure there are no infinite or NaN values\n",
        "volcano_df = volcano_df.replace([np.inf, -np.inf], np.nan).dropna()\n",
        "\n",
        "# Replot the volcano plot\n",
        "plt.figure(figsize=(10, 8))\n",
        "plt.scatter(volcano_df['log2_fold_change'], volcano_df['-log10_p_value'], alpha=0.5)\n",
        "plt.xlabel('Log2 Fold Change')\n",
        "plt.ylabel('-Log10 P-value')\n",
        "plt.title('Volcano Plot')\n",
        "plt.show()\n"
      ],
      "metadata": {
        "id": "Rp-Y9yaGkiii"
      },
      "execution_count": null,
      "outputs": []
    },
    {
      "cell_type": "code",
      "source": [
        "# Display first few rows of the significant genes DataFrame\n",
        "print(significant_genes.head())\n",
        "print(significant_genes.shape)\n"
      ],
      "metadata": {
        "id": "Ha8yMlF5l2gj"
      },
      "execution_count": null,
      "outputs": []
    },
    {
      "cell_type": "code",
      "source": [
        "# Check the distribution of log2 fold changes\n",
        "print(\"Log2 Fold Change Summary:\")\n",
        "print(volcano_df['log2_fold_change'].describe())\n",
        "\n",
        "# Check the distribution of p-values\n",
        "print(\"\\nP-value Summary:\")\n",
        "print(volcano_df['p_value'].describe())\n",
        "\n",
        "# Check the number of significant genes based on different thresholds\n",
        "volcano_df['is_significant'] = (volcano_df['p_value'] < 0.05) & (volcano_df['log2_fold_change'].abs() >= 1.0)\n",
        "print(\"\\nNumber of significant genes with log2 fold change >= 1 and p-value < 0.05:\")\n",
        "print(volcano_df['is_significant'].sum())\n"
      ],
      "metadata": {
        "id": "qyvNsDBnmugC"
      },
      "execution_count": null,
      "outputs": []
    },
    {
      "cell_type": "code",
      "source": [
        "# Check the distribution of log2 fold changes\n",
        "print(\"Log2 Fold Change Summary:\")\n",
        "print(volcano_df['log2_fold_change'].describe())\n",
        "\n",
        "# Check the distribution of p-values\n",
        "print(\"\\nP-value Summary:\")\n",
        "print(volcano_df['p_value'].describe())\n",
        "\n",
        "# Check the number of significant genes based on different thresholds\n",
        "volcano_df['is_significant'] = (volcano_df['p_value'] < 0.05) & (volcano_df['log2_fold_change'].abs() >= 1.0)\n",
        "print(\"\\nNumber of significant genes with log2 fold change >= 1 and p-value < 0.05:\")\n",
        "print(volcano_df['is_significant'].sum())\n"
      ],
      "metadata": {
        "id": "ZNNUveWXnBC7"
      },
      "execution_count": null,
      "outputs": []
    },
    {
      "cell_type": "code",
      "source": [
        "import matplotlib.pyplot as plt\n",
        "import seaborn as sns\n",
        "\n",
        "# Plot the distribution of log2 fold changes\n",
        "plt.figure(figsize=(12, 6))\n",
        "sns.histplot(volcano_df['log2_fold_change'], bins=50, kde=True)\n",
        "plt.title('Distribution of Log2 Fold Changes')\n",
        "plt.xlabel('Log2 Fold Change')\n",
        "plt.ylabel('Frequency')\n",
        "plt.show()\n",
        "\n",
        "# Plot the distribution of p-values\n",
        "plt.figure(figsize=(12, 6))\n",
        "sns.histplot(volcano_df['p_value'], bins=50, kde=True)\n",
        "plt.title('Distribution of P-values')\n",
        "plt.xlabel('P-value')\n",
        "plt.ylabel('Frequency')\n",
        "plt.show()\n"
      ],
      "metadata": {
        "id": "OTsFQtnYnPg-"
      },
      "execution_count": null,
      "outputs": []
    },
    {
      "cell_type": "code",
      "source": [
        "# Adjust the thresholds based on the distributions\n",
        "adjusted_log2_fold_change_threshold = 0.5  # Example adjustment\n",
        "adjusted_p_value_threshold = 0.1           # Example adjustment\n",
        "\n",
        "# Identify significant genes based on adjusted thresholds\n",
        "volcano_df['is_significant'] = (volcano_df['p_value'] < adjusted_p_value_threshold) & (volcano_df['log2_fold_change'].abs() >= adjusted_log2_fold_change_threshold)\n",
        "\n",
        "# Number of significant genes with adjusted thresholds\n",
        "print(\"\\nNumber of significant genes with adjusted thresholds:\")\n",
        "print(volcano_df['is_significant'].sum())\n",
        "\n",
        "# Extract significant genes DataFrame\n",
        "significant_genes_adjusted = volcano_df[volcano_df['is_significant']]\n",
        "\n",
        "# Plot the volcano plot with adjusted thresholds\n",
        "plt.figure(figsize=(10, 8))\n",
        "sns.scatterplot(data=volcano_df, x='log2_fold_change', y='-log10_p_value', hue='is_significant',\n",
        "                palette={False: 'blue', True: 'red'}, legend='full', alpha=0.7)\n",
        "plt.title('Volcano Plot with Adjusted Significant Genes Highlighted')\n",
        "plt.xlabel('Log2 Fold Change')\n",
        "plt.ylabel('-Log10 P-Value')\n",
        "plt.legend(title='Gene Significance', labels=['Not Significant', 'Significant'])\n",
        "plt.show()\n",
        "\n"
      ],
      "metadata": {
        "id": "_kdQE4uonaoO"
      },
      "execution_count": null,
      "outputs": []
    },
    {
      "cell_type": "markdown",
      "source": [
        "## Data Analysis Summary and Conclusions\n",
        "\n",
        "### Overview\n",
        "The dataset comprises gene expression profiles with various measurements such as unstranded, stranded_first, stranded_second, tpm_unstranded, fpkm_unstranded, and fpkm_uq_unstranded. Our analysis focuses on understanding the distribution of these measurements and identifying significant genes based on their log2 fold changes and p-values.\n",
        "\n",
        "### Key Findings\n",
        "\n",
        "#### Distribution of TPM (Transcripts Per Million) Unstranded\n",
        "- The **distribution of `tpm_unstranded`** is highly skewed, with most values concentrated near zero and a few extremely high values (outliers).\n",
        "- **Boxplot** indicates the presence of numerous outliers, suggesting high variability in gene expression levels among the genes.\n",
        "\n",
        "#### Log-Transformed Distribution of TPM Unstranded\n",
        "- **Log-transformation** of `tpm_unstranded` values reveals a more normalized distribution, although there are still a significant number of outliers.\n",
        "- The **boxplot** of log-transformed `tpm_unstranded` values shows a more compressed range, indicating that log transformation helps in mitigating the impact of outliers.\n",
        "\n",
        "#### Principal Component Analysis (PCA)\n",
        "- **PCA plot** reveals clusters of data points with several outliers dispersed away from the main cluster. This indicates variability in gene expression profiles.\n",
        "- Outliers are highlighted in red, clearly showing the genes with expression levels significantly different from the majority.\n",
        "\n",
        "#### Volcano Plot\n",
        "- The **volcano plot** highlights genes with large log2 fold changes and low p-values. Significant genes are expected to be found in the upper corners of the plot.\n",
        "- In our analysis, no genes were found to be significantly upregulated or downregulated (log2 fold change >= 1 and p-value < 0.05), suggesting that there are no strong candidates for differential expression in the dataset provided.\n",
        "\n",
        "### Statistical Summary\n",
        "- **Log2 Fold Change Summary**:\n",
        "  - The log2 fold change values range from -6.41 to 6.54, with a mean of 0.15 and a standard deviation of 2.02.\n",
        "- **P-value Summary**:\n",
        "  - P-values range from 0.097 to 0.978, with a mean of 0.496 and a standard deviation of 0.256.\n",
        "  - The distribution of p-values is relatively uniform, indicating that there are no strong signals of differential expression.\n",
        "\n",
        "### Conclusion\n",
        "- The analysis shows that while there is considerable variability in gene expression levels (as evidenced by the distribution plots and PCA), none of the genes in the current dataset meet the criteria for significant differential expression.\n",
        "- Future analyses might benefit from increasing the sample size or adjusting the criteria for significance to uncover potential differential expression patterns.\n",
        "- The insights from the log-transformed distributions and PCA suggest that preprocessing steps such as log transformation are crucial in handling highly skewed data and identifying meaningful patterns.\n",
        "\n"
      ],
      "metadata": {
        "id": "kBE_WG07zyeU"
      }
    },
    {
      "cell_type": "markdown",
      "source": [
        "# Differential Gene Expression Analysis Using BERT for Interpretation\n",
        "\n",
        "## Step 1: Differential Gene Expression Analysis\n",
        "\n",
        "### Objective\n",
        "Identify genes that are differentially expressed between cancerous and non-cancerous tissues.\n",
        "\n",
        "### Data Preparation\n",
        "\n",
        "\n"
      ],
      "metadata": {
        "id": "Ey65DfHd2qRa"
      }
    },
    {
      "cell_type": "code",
      "source": [
        "import pandas as pd\n",
        "\n",
        "# Load your RNA-seq data\n",
        "data = pd.read_csv('/content/drive/MyDrive/Colab Notebooks/processed_rna_seq_data.csv')\n",
        "\n",
        "# Example of the first few rows of the dataset\n",
        "print(data.head())\n"
      ],
      "metadata": {
        "id": "pA9TWnOsnxZW"
      },
      "execution_count": null,
      "outputs": []
    },
    {
      "cell_type": "code",
      "source": [],
      "metadata": {
        "id": "Bk2SkZ55zCN2"
      },
      "execution_count": null,
      "outputs": []
    }
  ]
}